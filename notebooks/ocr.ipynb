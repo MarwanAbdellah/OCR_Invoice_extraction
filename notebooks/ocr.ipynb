{
 "cells": [
  {
   "cell_type": "code",
   "execution_count": 1,
   "id": "09d02b30",
   "metadata": {},
   "outputs": [],
   "source": [
    "if __name__ == \"__main__\":\n",
    "    import os\n",
    "    os.chdir(\"..\")"
   ]
  },
  {
   "cell_type": "markdown",
   "id": "1f36f11b",
   "metadata": {},
   "source": [
    "This if statement is only executed if the file is run directly, and not when it is imported as a module.\n",
    "its function is to change the working directory to the parent directory of the current file."
   ]
  },
  {
   "cell_type": "markdown",
   "id": "685e03c4",
   "metadata": {},
   "source": [
    "# Import libraries"
   ]
  },
  {
   "cell_type": "code",
   "execution_count": 2,
   "id": "f5817a79",
   "metadata": {},
   "outputs": [],
   "source": [
    "from langchain_google_genai import ChatGoogleGenerativeAI\n",
    "from dotenv import load_dotenv\n",
    "from langchain.prompts import ChatPromptTemplate, FewShotChatMessagePromptTemplate\n",
    "import base64\n",
    "from utils.img64 import read_image_base64"
   ]
  },
  {
   "cell_type": "markdown",
   "id": "e2ee3ada",
   "metadata": {},
   "source": [
    "1. Langchain_google_genai allows you to use google genai models with langchain.\n",
    "2. dotenv allows you to use environment variables.\n",
    "3. langchain.prompts allows you to use prompts to fine-tune your LLM models.\n",
    "4. utils.img64 allows you to convert images to base64 because genai models only accept base64 images."
   ]
  },
  {
   "cell_type": "markdown",
   "id": "33a9fda6",
   "metadata": {},
   "source": [
    "# Loading our enviroment vairiables (API Keys)"
   ]
  },
  {
   "cell_type": "code",
   "execution_count": 3,
   "id": "3bf60fd3",
   "metadata": {},
   "outputs": [
    {
     "data": {
      "text/plain": [
       "True"
      ]
     },
     "execution_count": 3,
     "metadata": {},
     "output_type": "execute_result"
    }
   ],
   "source": [
    "load_dotenv()"
   ]
  },
  {
   "cell_type": "markdown",
   "id": "841143a0",
   "metadata": {},
   "source": [
    "# Identifying our LLM + Adjusting it's settings for our needs"
   ]
  },
  {
   "cell_type": "code",
   "execution_count": 4,
   "id": "7222b795",
   "metadata": {},
   "outputs": [],
   "source": [
    "llm = ChatGoogleGenerativeAI(\n",
    "    model=\"models/gemini-1.5-pro-latest\",\n",
    "    temperature=0\n",
    ")\n"
   ]
  },
  {
   "cell_type": "markdown",
   "id": "ba77a402",
   "metadata": {},
   "source": [
    "# Creating the InvoiceData classes + Identifying our output parser"
   ]
  },
  {
   "cell_type": "markdown",
   "id": "095d8665",
   "metadata": {},
   "source": [
    "Pydantic is used here as it is a validation library, to ensure the correct format and input of our data. It lets us define data models using Python classes, where each field has a type (like str, int, or List). When data is passed in, Pydantic automatically checks if the types match and throws an error if something’s off. This makes your code safer and helps catch bugs early. It's super useful when working with LLMs or APIs because it ensures the model’s output matches what your app expects."
   ]
  },
  {
   "cell_type": "code",
   "execution_count": 5,
   "id": "7600680e",
   "metadata": {},
   "outputs": [],
   "source": [
    "from langchain_core.output_parsers import PydanticOutputParser\n",
    "from pydantic import BaseModel, Field\n",
    "from typing import List, Optional\n",
    "\n",
    "class InvoiceItem(BaseModel):\n",
    "    item_name: str = Field(..., description=\"Name of the item\")\n",
    "    quantity: int = Field(..., description=\"Quantity of the item\")\n",
    "    taxes: Optional[float] = Field(..., description=\"Taxes applied to the item\")\n",
    "    total_price: float = Field(..., description=\"Total price for the item\")\n",
    "\n",
    "class InvoiceData(BaseModel):\n",
    "    buyer_name: str = Field(..., description=\"Name of the buyer\")\n",
    "    invoice_date : str = Field(..., description=\"Date of the invoice\")\n",
    "    items: List[InvoiceItem] = Field(..., description=\"List of items in the invoice\")\n",
    "\n",
    "parser = PydanticOutputParser(pydantic_object=InvoiceData)\n",
    "\n",
    "    "
   ]
  },
  {
   "cell_type": "markdown",
   "id": "e2791b31",
   "metadata": {},
   "source": [
    "# Creating our ground_truth_examples "
   ]
  },
  {
   "cell_type": "markdown",
   "id": "3c8a6676",
   "metadata": {},
   "source": [
    "Ground truth examples are the correct input-output pairs we manually define. These are super important because they help the model understand what kind of answer we expect. For example, if we feed it an invoice image and the correct extracted data (like total amount, invoice number, and date), the model learns to match that pattern. In few-shot learning, we give the model a few of these examples directly in the prompt so it can imitate the format. This improves accuracy and helps reduce wrong or inconsistent outputs, especially when the input is messy like scanned documents."
   ]
  },
  {
   "cell_type": "markdown",
   "id": "34324748",
   "metadata": {},
   "source": [
    "## Images example"
   ]
  },
  {
   "cell_type": "code",
   "execution_count": 6,
   "id": "68d8c285",
   "metadata": {},
   "outputs": [],
   "source": [
    "example = [\n",
    "    {\n",
    "        \"invoice_img\": read_image_base64(r\"data\\invoices\\FACTU2016020050.jpg\"),\n",
    "        \"invoice_data\": InvoiceData(\n",
    "            buyer_name=\"Gemini Furniture\",\n",
    "            invoice_date=\"2016-02-02\",\n",
    "            items = [\n",
    "                InvoiceItem(\n",
    "                    item_name=\"Bureau personnalisable\",\n",
    "                    quantity=94000,\n",
    "                    taxes=0.2,\n",
    "                    total_price=47000\n",
    "                ),\n",
    "            ],\n",
    "        ),\n",
    "    },\n",
    "]\n"
   ]
  },
  {
   "cell_type": "markdown",
   "id": "6dc90e4e",
   "metadata": {},
   "source": [
    "## Text examples"
   ]
  },
  {
   "cell_type": "code",
   "execution_count": 7,
   "id": "8cd03343",
   "metadata": {},
   "outputs": [],
   "source": [
    "text_example = [\n",
    "    {\n",
    "        \"invoice_text\": \"\"\"\n",
    "            Invoice Date: 2023-09-15\n",
    "            Buyer: Alpha Supplies Co.\n",
    "            \n",
    "            Items:\n",
    "            - Item: Desk Chair, Quantity: 3, Unit Price: $120.00, Tax: $21.60, Total: $381.60\n",
    "            - Item: Standing Desk, Quantity: 2, Unit Price: $450.00, Tax: $72.00, Total: $972.00\n",
    "        \"\"\",\n",
    "        \"invoice_data\": InvoiceData(\n",
    "            buyer_name=\"Alpha Supplies Co.\",\n",
    "            invoice_date=\"2023-09-15\",\n",
    "            items=[\n",
    "                InvoiceItem(\n",
    "                    item_name=\"Desk Chair\",\n",
    "                    quantity=\"3\",\n",
    "                    taxes=21.60,\n",
    "                    total_price=381.60\n",
    "                ),\n",
    "                InvoiceItem(\n",
    "                    item_name=\"Standing Desk\",\n",
    "                    quantity=\"2\",\n",
    "                    taxes=72.00,\n",
    "                    total_price=972.00\n",
    "                ),\n",
    "            ],\n",
    "        ),\n",
    "    },\n",
    "]"
   ]
  },
  {
   "cell_type": "markdown",
   "id": "50487979",
   "metadata": {},
   "source": [
    "# Identifying our Few shot examples"
   ]
  },
  {
   "cell_type": "markdown",
   "id": "4b704436",
   "metadata": {},
   "source": [
    "Few-shot learning is a technique in machine learning where a model is trained to perform tasks with very limited amounts of labeled data. Instead of needing large datasets, like traditional machine learning models, few-shot learning allows the model to generalize from just a few examples."
   ]
  },
  {
   "cell_type": "code",
   "execution_count": 8,
   "id": "1251ca12",
   "metadata": {},
   "outputs": [
    {
     "name": "stdout",
     "output_type": "stream",
     "text": [
      "================================\u001b[1m Human Message \u001b[0m=================================\n",
      "\n",
      "[{'type': 'image', 'source_type': 'base64', 'data': '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', 'mime_type': 'image/jpeg'}]\n",
      "==================================\u001b[1m Ai Message \u001b[0m==================================\n",
      "\n",
      "buyer_name='Gemini Furniture' invoice_date='2016-02-02' items=[InvoiceItem(item_name='Bureau personnalisable', quantity=94000, taxes=0.2, total_price=47000.0)]\n"
     ]
    }
   ],
   "source": [
    "few_shot_examples = ChatPromptTemplate.from_messages([\n",
    "    {\n",
    "        \"role\": \"user\",\n",
    "        \"content\": [\n",
    "            {\n",
    "                \"type\": \"image\",\n",
    "                \"source_type\": \"base64\",\n",
    "                \"data\": read_image_base64(r\"data\\invoices\\FACTU2016020050.jpg\"),\n",
    "                \"mime_type\": \"image/jpeg\"\n",
    "            },\n",
    "        ],\n",
    "    },\n",
    "    (\"assistant\", \"{invoice_data}\"),\n",
    "])\n",
    "\n",
    "few_shot_prompt = FewShotChatMessagePromptTemplate(\n",
    "    example_prompt=few_shot_examples,\n",
    "    examples= example\n",
    ")\n",
    "\n",
    "if __name__ == \"__main__\":   \n",
    "    for example in few_shot_prompt.invoke({}).to_messages():\n",
    "        example.pretty_print()\n"
   ]
  },
  {
   "cell_type": "markdown",
   "id": "b9bbe389",
   "metadata": {},
   "source": [
    "## Text Examples"
   ]
  },
  {
   "cell_type": "code",
   "execution_count": 9,
   "id": "2e856222",
   "metadata": {},
   "outputs": [
    {
     "name": "stdout",
     "output_type": "stream",
     "text": [
      "================================\u001b[1m Human Message \u001b[0m=================================\n",
      "\n",
      "\n",
      "            Invoice Date: 2023-09-15\n",
      "            Buyer: Alpha Supplies Co.\n",
      "            \n",
      "            Items:\n",
      "            - Item: Desk Chair, Quantity: 3, Unit Price: $120.00, Tax: $21.60, Total: $381.60\n",
      "            - Item: Standing Desk, Quantity: 2, Unit Price: $450.00, Tax: $72.00, Total: $972.00\n",
      "        \n",
      "==================================\u001b[1m Ai Message \u001b[0m==================================\n",
      "\n",
      "buyer_name='Alpha Supplies Co.' invoice_date='2023-09-15' items=[InvoiceItem(item_name='Desk Chair', quantity=3, taxes=21.6, total_price=381.6), InvoiceItem(item_name='Standing Desk', quantity=2, taxes=72.0, total_price=972.0)]\n"
     ]
    }
   ],
   "source": [
    "few_shot_text_examples = ChatPromptTemplate.from_messages([\n",
    "    {\n",
    "        \"role\": \"user\",\n",
    "        \"content\": \"{invoice_text}\"\n",
    "    },\n",
    "    (\"assistant\", \"{invoice_data}\")\n",
    "])\n",
    "\n",
    "few_shot_prompt_text = FewShotChatMessagePromptTemplate(\n",
    "    example_prompt=few_shot_text_examples,\n",
    "    examples=text_example\n",
    ")\n",
    "\n",
    "if __name__ == \"__main__\":   \n",
    "    for example in few_shot_prompt_text.invoke({}).to_messages():\n",
    "        example.pretty_print()"
   ]
  },
  {
   "cell_type": "markdown",
   "id": "44dc91bd",
   "metadata": {},
   "source": [
    "# Multimodal Invoice Extraction with Few-Shot Prompting"
   ]
  },
  {
   "cell_type": "code",
   "execution_count": 10,
   "id": "a7c87873",
   "metadata": {},
   "outputs": [],
   "source": [
    "from langchain_core.messages import HumanMessage, SystemMessage\n",
    "import json\n",
    "\n",
    "def process_invoice(image_path=None, invoice_text=None):\n",
    "    # Prepare the system message with instructions\n",
    "    messages = [\n",
    "        SystemMessage(\n",
    "            content=f\"Extract the data from this invoice. Follow this output format: {parser.get_format_instructions()}\"\n",
    "        )\n",
    "    ]\n",
    "    \n",
    "    few_shot_prompt_messages = few_shot_prompt.invoke({}).to_messages()\n",
    "    for example in few_shot_prompt_messages:\n",
    "        messages.append(example)\n",
    "    \n",
    "    if image_path:\n",
    "        image_data = read_image_base64(image_path)\n",
    "        if not image_data:\n",
    "            raise ValueError(\"Image could not be read or encoded.\")\n",
    "        \n",
    "        messages.append(HumanMessage(\n",
    "            content=[{\n",
    "                \"type\": \"image\",\n",
    "                \"source_type\": \"base64\",\n",
    "                \"data\": image_data,\n",
    "                \"mime_type\": \"image/jpeg\",\n",
    "            }]))  # Add the image data\n",
    "\n",
    "    if invoice_text:\n",
    "        messages.append(HumanMessage(content=invoice_text))  \n",
    "\n",
    "    output = llm.invoke(messages)\n",
    "    \n",
    "    return output  \n"
   ]
  },
  {
   "cell_type": "markdown",
   "id": "cf50f24a",
   "metadata": {},
   "source": [
    "# Cleanly Display Parsed Model Output"
   ]
  },
  {
   "cell_type": "code",
   "execution_count": 11,
   "id": "416aafd2",
   "metadata": {},
   "outputs": [],
   "source": [
    "def format_invoice_data(output):\n",
    "\n",
    "    try:\n",
    "        raw_json_string = output.content.strip(\"```json\\n\").strip()\n",
    "        invoice_data = json.loads(raw_json_string)\n",
    "\n",
    "        formatted_output = f\"\"\"Buyer: {invoice_data['buyer_name']}\n",
    "Invoice Date: {invoice_data['invoice_date']}\n",
    "\n",
    "Items:\"\"\"\n",
    "\n",
    "        for item in invoice_data['items']:\n",
    "            qty = item.get(\"quantity\", 1) or 1 # Handle None values\n",
    "            tax = item.get(\"taxes\")\n",
    "            tax_display = f\"{tax * 100:.2f}%\" if tax is not None else \"N/A\"\n",
    "            unit_price = item['total_price'] / qty\n",
    "\n",
    "            formatted_output += f\"\"\"\n",
    "- Item: {item['item_name']}\n",
    "  Quantity: {qty}\n",
    "  Unit Price: ${unit_price:.2f}\n",
    "  Tax: {tax_display}\n",
    "  Total Price: ${item['total_price']:.2f}\n",
    "\"\"\"\n",
    "\n",
    "        return formatted_output\n",
    "\n",
    "    except Exception as e:\n",
    "        return f\"Error processing output: {str(e)}\"\n"
   ]
  },
  {
   "cell_type": "markdown",
   "id": "185546d9",
   "metadata": {},
   "source": [
    "## Testing our output"
   ]
  },
  {
   "cell_type": "code",
   "execution_count": 12,
   "id": "da49a820",
   "metadata": {},
   "outputs": [
    {
     "name": "stdout",
     "output_type": "stream",
     "text": [
      "Buyer: Alpha Supplies Co.\n",
      "Invoice Date: 2023-09-15\n",
      "\n",
      "Items:\n",
      "- Item: Desk Chair\n",
      "  Quantity: 3\n",
      "  Unit Price: $127.20\n",
      "  Tax: 21.60%\n",
      "  Total Price: $381.60\n",
      "\n",
      "- Item: Standing Desk\n",
      "  Quantity: 2\n",
      "  Unit Price: $486.00\n",
      "  Tax: 72.00%\n",
      "  Total Price: $972.00\n",
      "\n"
     ]
    }
   ],
   "source": [
    "# Call the function with invoice text (or image)\n",
    "output = process_invoice(invoice_text=\"\"\"Invoice Date: 2023-09-15\n",
    "Buyer: Alpha Supplies Co.\n",
    "Items:\n",
    "- Item: Desk Chair, Quantity: 3, Unit Price: $120.00, Tax: 0.216, Total: $381.60\n",
    "- Item: Standing Desk, Quantity: 2, Unit Price: $450.00, Tax: 0.72, Total: $972.00\n",
    "\"\"\")\n",
    "\n",
    "# Format the invoice data into human-readable text\n",
    "formatted_output = format_invoice_data(output)\n",
    "\n",
    "# Print the formatted output\n",
    "if __name__ == \"__main__\":\n",
    "    print(formatted_output)"
   ]
  },
  {
   "cell_type": "code",
   "execution_count": 13,
   "id": "892be71d",
   "metadata": {},
   "outputs": [
    {
     "name": "stdout",
     "output_type": "stream",
     "text": [
      "Buyer: Gemini Furniture\n",
      "Invoice Date: 2016-02-02\n",
      "\n",
      "Items:\n",
      "- Item: Bureau personnalisable\n",
      "  Quantity: 94\n",
      "  Unit Price: $500.00\n",
      "  Tax: 20.00%\n",
      "  Total Price: $47000.00\n",
      "\n"
     ]
    }
   ],
   "source": [
    "# Process the invoice (image or text)\n",
    "output = process_invoice(image_path=r\"data\\invoices\\FACTU2016020050.jpg\") \n",
    "\n",
    "# Format the invoice data into human-readable text\n",
    "formatted_output = format_invoice_data(output)\n",
    "\n",
    "# Print the formatted output\n",
    "if __name__ == \"__main__\":\n",
    "    print(formatted_output)"
   ]
  },
  {
   "cell_type": "markdown",
   "id": "efc77919",
   "metadata": {},
   "source": [
    "## Taxes Barchart graph generator"
   ]
  },
  {
   "cell_type": "code",
   "execution_count": 14,
   "id": "7c673f9f",
   "metadata": {},
   "outputs": [],
   "source": [
    "import matplotlib.pyplot as plt\n",
    "\n",
    "def plot_tax_per_item(formatted_output):\n",
    "    try:\n",
    "        # Parse the formatted text to extract data\n",
    "        lines = formatted_output.strip().split('\\n')\n",
    "        items = []\n",
    "        current_item = {}\n",
    "        \n",
    "        for line in lines:\n",
    "            line = line.strip()\n",
    "            if line.startswith('- Item:'):\n",
    "                if current_item:\n",
    "                    items.append(current_item)\n",
    "                current_item = {}\n",
    "                current_item['item_name'] = line.split('Item:')[1].strip()\n",
    "            elif 'Tax:' in line and '%' in line:\n",
    "                # Extract tax value (remove % and convert to float)\n",
    "                tax_value = float(line.split('Tax:')[1].strip().replace('%', ''))\n",
    "                current_item['taxes'] = tax_value\n",
    "        \n",
    "        if current_item:\n",
    "            items.append(current_item)\n",
    "        \n",
    "        # Extract data for plotting\n",
    "        names = []\n",
    "        taxes = []\n",
    "\n",
    "        for item in items:\n",
    "            name = item.get(\"item_name\", \"Unknown\")\n",
    "            tax = item.get(\"taxes\")\n",
    "            if isinstance(tax, (int, float)):\n",
    "                names.append(name)\n",
    "                taxes.append(tax)\n",
    "            else:\n",
    "                print(f\"Skipping item without valid tax: {name}\")\n",
    "\n",
    "        # Create a figure and axis explicitly\n",
    "        fig, ax = plt.subplots(figsize=(10, 6))\n",
    "        ax.bar(names, taxes, color=\"skyblue\")\n",
    "        ax.set_xlabel(\"Item\")\n",
    "        ax.set_ylabel(\"Tax Percentage\")\n",
    "        ax.set_title(\"Tax per Invoice Item\")\n",
    "        ax.set_xticks(range(len(names)))\n",
    "        ax.set_xticklabels(names, rotation=45)\n",
    "        fig.tight_layout()\n",
    "\n",
    "        return fig  # Return figure to be used with st.pyplot(fig)\n",
    "    \n",
    "    except Exception as e:\n",
    "        raise ValueError(f\"Error processing data: {str(e)}\\nMake sure the formatted output contains valid item and tax information.\")\n"
   ]
  },
  {
   "cell_type": "code",
   "execution_count": null,
   "id": "b0b4cd62",
   "metadata": {},
   "outputs": [],
   "source": []
  }
 ],
 "metadata": {
  "kernelspec": {
   "display_name": "OCR_Project",
   "language": "python",
   "name": "python3"
  },
  "language_info": {
   "codemirror_mode": {
    "name": "ipython",
    "version": 3
   },
   "file_extension": ".py",
   "mimetype": "text/x-python",
   "name": "python",
   "nbconvert_exporter": "python",
   "pygments_lexer": "ipython3",
   "version": "3.11.11"
  }
 },
 "nbformat": 4,
 "nbformat_minor": 5
}
